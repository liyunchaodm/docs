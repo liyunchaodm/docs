{
 "cells": [
  {
   "cell_type": "markdown",
   "metadata": {},
   "source": [
    "预期时间：10小时"
   ]
  },
  {
   "cell_type": "markdown",
   "metadata": {},
   "source": [
    "2019.11.11 14：40\n",
    "# Git简介\n",
    "\n",
    "### 版本控制作用\n",
    "保存所有修改过程，随时回退到任意时间点。\n",
    "\n",
    "版本控制历史：\n",
    "1. RCS的工作原理是在硬盘上保存补丁集（补丁是指文件修订前后的变化）；通过应用所有的补丁，可以重新计算出各个版本的文件内容。\n",
    "2. 集中化版本控制系统(CVCS)，单一管理的服务器，方便项目管理进度，协作开发。缺点是单点故障。\n",
    "3. 分布式版本控制系统(DVCS)，客户端会完全镜像代码，方便恢复及协作。"
   ]
  },
  {
   "cell_type": "markdown",
   "metadata": {},
   "source": [
    "### 历史\n",
    "Linux开源社区和BitKeeper合作结束，BitKeeper收回权限。\n",
    "Linux开始自研发版本控制系统，目标：\n",
    "1. 速度\n",
    "2. 简单的设计\n",
    "3. 对非线性开发模式的强力支持（允许成千上万个并行开发的分支）\n",
    "4. 完全分布式\n",
    "5. 有能力高效管理类似 Linux 内核一样的超大规模项目（速度和数据量）"
   ]
  },
  {
   "cell_type": "markdown",
   "metadata": {},
   "source": [
    "### Git基础\n",
    "传统版本控制系统，将它们保存的信息看作是一组基本文件和每个文件随时间逐步累积的差异。\n",
    "\n",
    "Git把文件视为快照流，建立索引。每个版本指向各种文件SHA-1码，如果文件未修改，不做存储，只是链接指向。\n",
    "\n",
    "SHA-1哈希码样例：24b9da6552252987aa493b52f8696cd6d3b00373\n",
    "\n",
    "文件三种状态：已提交（committed）、已修改（modified）和已暂存（staged）\n",
    "1. 已提交表示数据已经安全的保存在本地数据库中。 \n",
    "2. 已修改表示修改了文件，但还没保存到数据库中。 \n",
    "3. 已暂存表示对一个已修改文件的当前版本做了标记，使之包含在下次提交的快照中。\n",
    "\n",
    "三个工作区域：Git 仓库、工作目录以及暂存区域。\n",
    "1. Git 仓库目录是 Git 用来保存项目的元数据和对象数据库的地方。（下载数据的地方）\n",
    "2. 工作目录是对项目的某个版本独立提取出来的内容。 （放在磁盘上供你使用或修改）\n",
    "3. 暂存区域是一个文件，保存了下次将提交的文件列表信息，一般在 Git 仓库目录中。 （是个文件，记录列表信息）\n",
    "\n",
    "工作流程：\n",
    "1. 在工作目录中修改文件。\n",
    "2. 暂存文件，将文件的快照放入暂存区域。\n",
    "3. 提交更新，找到暂存区域的文件，将快照永久性存储到 Git 仓库目录。\n",
    "![git work flow](./git_pic/1.work_flow.png)\n",
    "\n",
    "2019.11.11 15:30 (50分钟)"
   ]
  },
  {
   "cell_type": "markdown",
   "metadata": {},
   "source": [
    "2019.11.11 15:48\n",
    "### 命令行\n",
    "执行方式：\n",
    "1. 命令行，Mac使用Terminal；Windows使用命令窗口（Command Prompt）或 PowerShell。\n",
    "2. GUI模式，只是命令行模式的子集。"
   ]
  },
  {
   "cell_type": "markdown",
   "metadata": {},
   "source": [
    "### windows安装\n",
    "两种安装方法：\n",
    "1. 官方版本可以在 Git 官方网站下载。 http://git-scm.com/download/win，下载会自动开始。\n",
    "2. 安装 GitHub for Windows。 该安装程序包含图形化和命令行版本的 Git。 它也能支持 Powershell，提供了稳定的凭证缓存和健全的换行设置。 \n",
    "\n",
    "安装notepad++，注册github等操作。\n",
    "\n",
    "2019.11.11 16:38(50分钟)"
   ]
  },
  {
   "cell_type": "markdown",
   "metadata": {},
   "source": [
    "2019.11.12 10:00\n",
    "\n",
    "### Git三种模式\n",
    "1. Git Bash：可使用git所有feature，以及unix系统的命令\n",
    "2. Git CMD(Deprecated)：可使用git所有feature，仅限windows命令\n",
    "3. Git GUI：可使用git大部分功能，图形界面\n",
    "\n",
    "### 初次配置\n",
    "在 Windows 系统中，Git 会查找 \\$HOME 目录下（一般情况下是 C:\\Users\\$USER）的 .gitconfig 文件。\n",
    "\n",
    "如果使用了 --global 选项，那么该命令只需要运行一次，因为之后无论你在该系统上做任何事情， Git 都会使用那些信息。 \n",
    "\n",
    "想针对特定项目使用不同的用户名称与邮件地址时，可以在那个项目目录下运行没有 --global 选项的命令来配置。\n",
    "\n",
    "#### 用户信息设置\n",
    "$ git config --global user.name \"John Doe\"\n",
    "\n",
    "$ git config --global user.email johndoe@example.com\n",
    "\n",
    "#### 文本编辑器\n",
    "$ git config --global core.editor emacs\n"
   ]
  },
  {
   "cell_type": "markdown",
   "metadata": {},
   "source": [
    "#### 查看所有配置信息\n",
    "$ git config --list\n",
    "\n",
    "（复制到D盘，以及在环境变量里配置，都没用，只有C:\\Users\\yunli里的.gitconfig文件有效）"
   ]
  },
  {
   "cell_type": "markdown",
   "metadata": {},
   "source": [
    "### 查找帮助\n",
    "$ git help \"verb\"\n",
    "\n",
    "$ git \"verb\" --help\n",
    "    \n",
    "$ man git-\"verb\"\n",
    "\n",
    "例如$ git help config"
   ]
  },
  {
   "cell_type": "markdown",
   "metadata": {},
   "source": [
    "# Git基础\n",
    "### 获取Git仓库\n",
    "目标：\n",
    "1. 配置并初始化一个仓库（repository）\n",
    "2. 开始或停止跟踪（track）文件\n",
    "3. 暂存（stage）或提交（commit）更改\n",
    "4. 如何配置 Git来忽略指定的文件和文件模式\n",
    "5. 如何迅速而简单地撤销错误操作\n",
    "6. 如何浏览你的项目的历史版本以及不同提交（commits）间的差异\n",
    "7. 如何向你的远程仓库推送（push）以及如何从你的远程仓库拉取（pull）文件\n",
    "\n",
    "(2019.11.12 10:50 50分钟)"
   ]
  },
  {
   "cell_type": "markdown",
   "metadata": {},
   "source": [
    "2019.11.12 11:00\n",
    "\n",
    "两种方法：\n",
    "1. 在现有项目或目录下导入所有文件到 Git中。\n",
    "2. 从一个服务器克隆一个现有的 Git 仓库。\n",
    "\n",
    "第一种方法：\n",
    "1. 切换到相应路径：cd D:/Projects/git_demo\n",
    "2. 执行git init，将创建一个名为 .git 的子目录，这个子目录含有你初始化的 Git 仓库中所有的必须文件，这些文件是 Git 仓库的骨干。\n",
    "3. .git子目录在windows为隐藏目录，可在文件夹查看中，设置为可显示\n",
    "4. 创建两个文件：LICENSE和test.c\n",
    "5. 使用git add命令，加入追踪文件列表\n",
    "6. git add *.c\n",
    "7. git add LICENSE\n",
    "8. commit时，添加注释，$ git commit -m 'initial project version'\n",
    "9. 推出当前目录时，状态会由master变为正常。\n",
    "\n",
    "第二种方法：Clone已有的项目\n",
    "1. git clone https://github.com/libgit2/libgit2 会生成一个新目录，包含文件所有版本的信息。 \n",
    "2. git clone https://github.com/libgit2/libgit2 mylibgit 可以自己明明新目录，这里是mylibgit\n",
    "3. 报错信息：SSL_connect: SSL_ERROR_SYSCALL in connection to github.com:443，原因是**公司禁网**  (2019.11.12 11:50 50分钟)"
   ]
  },
  {
   "cell_type": "markdown",
   "metadata": {},
   "source": [
    "#### 使用SSH链接\n",
    "1. 打开git bash，生成ssh key：ssh-keygen -t rsa -b 4096 -C \"your_email@example.com\"\n",
    "2. 会产生两个文件，保存在.ssh文件，私钥和公钥，公钥有P标记\n",
    "3. 将公钥信息添加到github的ssh列表中。\n",
    "\n",
    "#### 将ssh key添加到git账户\n",
    "添加过程中报错信息：Could not open a connection to your authentication agent.\n",
    "\n",
    "解决方案;\n",
    "1. 需要ssh-agent启动bash，或者说把bash挂到ssh-agent下面\n",
    "2. ssh-agent bash --login -i\n",
    "3. ssh-add\n",
    "\n",
    "添加之后，就可以用git clone git@github.com:liyunchaodm/python_demo.git yunli_python_demo\n",
    "\n",
    "(2019.11.12 15:00 50分钟)"
   ]
  },
  {
   "cell_type": "markdown",
   "metadata": {},
   "source": [
    "## 记录每次更新\n",
    "1. 初始文件，是**未跟踪**状态\n",
    "2. 使用git add将文件加入跟踪列表，状态变为**Staged（暂存区）**\n",
    "3. 将staged文件commit后，文件状态变为**Unmodified**\n",
    "4. 对Unmodified文件修改后，文件状态变为**Modified**\n",
    "5. Modified文件会进入暂存区，状态变为**Staged**\n",
    "6. 如果将Unmodified文件删除，将不再跟踪，需要git add再次添加\n",
    "\n",
    "![file status](./git_pic/2.file_status.png)"
   ]
  },
  {
   "cell_type": "markdown",
   "metadata": {},
   "source": [
    "#### 常用指令\n",
    "1. 查看当前文件状态： git status\n",
    "2. 开始跟踪一个文件：git add\n",
    "3. 注释：Changes to be committed，表示这个被跟踪的文件，已被修改\n",
    "4. 注释：Changes not staged for commit，表示已被跟踪的文件，还没进入暂存区，使用git add\n",
    "5. git add是多用命令，主要宗旨：添加内容到下一次提交中，不仅仅是添加新文件\n",
    "6. 文件同时出现在暂存区和非暂存区，说明上次修改后，使用git add添加到暂存区，然后又被修改。需要再一次git add。\n",
    "7. git status -s可提供简短文件状态，新添加的未跟踪文件前面有**\\?\\?**标记，新添加到暂存区中的文件前面有**\\A**标记，修改过的文件前面有**M**标记。"
   ]
  },
  {
   "cell_type": "markdown",
   "metadata": {},
   "source": [
    "#### 忽略文件\n",
    "创建.gitignore文件，列出要忽略的文件格式。\n",
    "\n",
    ".gitignore的格式规范如下：\n",
    "1. 所有空行或者以 ＃ 开头的行都会被 Git 忽略。\n",
    "2. 可以使用标准的 glob 模式匹配。(简化版正则表达式)\n",
    "3. 匹配模式可以以（/）开头防止递归。\n",
    "4. 匹配模式可以以（/）结尾指定目录。\n",
    "5. 要忽略指定模式以外的文件或目录，可以在模式前加上惊叹号（!）取反。\n",
    "\n",
    "(2019.11.12 16:55 50分钟)\n",
    "\n",
    "(2019.11.12 17:15)\n",
    "\n",
    "**示例**\n",
    "\n",
    "\\# 忽略所有a后缀文件\n",
    "\n",
    "\\*.a\n",
    "\n",
    "\\# 但是要追踪lib.a文件\n",
    "\n",
    "!lib.a\n",
    "\n",
    "\\# 只忽略当前目录下的TODO文件\n",
    "\n",
    "/TODO\n",
    "\n",
    "\\# 忽略所有build目录下的文件\n",
    "\n",
    "build/\n",
    "\n",
    "\\# 忽略doc目录下的txt文件\n",
    "\n",
    "doc/\\*.txt\n",
    "\n",
    "\\# 忽略doc目录内部所有pdf文件\n",
    "\n",
    "doc/\\*\\*/\\*.pdf"
   ]
  },
  {
   "cell_type": "markdown",
   "metadata": {},
   "source": [
    "#### 查看已暂存和未暂存的修改\n",
    "git diff比较的是工作目录中当前文件和暂存区域快照之间的差异， 也就是**修改之后还没有暂存起来的变化内容**。\n",
    "\n",
    "查看已暂存的将要添加到下次提交里的内容，可以用 git diff --cached 命令。（高级版本有git diff --staged）\n",
    "\n",
    "git diff 本身只显示尚未暂存的改动，而不是自上次提交以来所做的所有改动。"
   ]
  },
  {
   "cell_type": "markdown",
   "metadata": {},
   "source": [
    "#### 提交更新\n",
    "git commit会调用文本编辑器，输入本次提交声明。可以直接加入说明，git commit -m 'some words'\n",
    "\n",
    "可以跳过使用暂存区域的方式，git commit -a -m 'some words'"
   ]
  },
  {
   "cell_type": "markdown",
   "metadata": {},
   "source": [
    "#### 删除文件\n",
    "如果只是简单地从工作目录中手工删除文件，运行 git status 时会显示在 “Changes not staged for commit” 部分。\n",
    "\n",
    "使用git rm somefile，下次提交时，就不再跟踪了。\n",
    "\n",
    "如果删除之前修改过并且已经放到暂存区域的话，则必须要用强制删除选项 -f。\n",
    "\n",
    "如果磁盘还是要保留，只从暂存区删除，git rm --cached README。\n",
    "\n",
    "可以使用正则表达式模式：git rm log/\\*.log\n",
    "\n",
    "#### 移动文件\n",
    "git mv file_from file_to"
   ]
  },
  {
   "cell_type": "markdown",
   "metadata": {},
   "source": [
    "# 查看历史git log\n",
    "参数|示例|释义\n",
    ":---:|:----:|:-----:\n",
    "-p|git log -p -2|最近2次提交，每个更新间的差异\n",
    "--stat|git log --stat|显示每次更新的文件修改统计信息。\n",
    "--shortstat|git log --shortstat|只显示 --stat中最后的行数修改添加移除统计。\n",
    "--name-only|git log --name-only|仅在提交信息后显示已修改的文件清单。\n",
    "--name-status|git log --name-status|显示新增、修改、删除的文件清单。\n",
    "--abbrev-commit|git log --abbrev-commit|仅显示 SHA-1 的前几个字符，而非所有的 40 个字符。\n",
    "--relative-date|git log --relative-date|使用较短的相对时间显示（比如，“2 weeks ago”）。\n",
    "--graph|git log --graph|显示 ASCII 图形表示的分支合并历史。\n",
    "--pretty|git log --pretty=online|使用其他格式显示历史提交信息。\n",
    "\n",
    "#### pretty属性可选值\n",
    "选项|说明\n",
    ":---:|:---:\n",
    "%H|提交对象（commit）的完整哈希字串\n",
    "%h|提交对象的简短哈希字串\n",
    "%T|树对象（tree）的完整哈希字串\n",
    "%t|树对象的简短哈希字串\n",
    "%P|父对象（parent）的完整哈希字串\n",
    "%p|父对象的简短哈希字串\n",
    "%an|作者（author）的名字\n",
    "%ae|作者的电子邮件地址\n",
    "%ad|作者修订日期（可以用 --date= 选项定制格式）\n",
    "%ar|作者修订日期，按多久以前的方式显示\n",
    "%cn|提交者（committer）的名字\n",
    "%ce|提交者的电子邮件地址\n",
    "%cd|提交日期\n",
    "%cr|提交日期，按多久以前的方式显示\n",
    "%s|提交说明\n",
    "\n",
    "（2019.11.12 18：10 50分钟）"
   ]
  },
  {
   "cell_type": "markdown",
   "metadata": {},
   "source": [
    "(2019.11.13 09:45)\n",
    "\n",
    "## 撤销操作\n",
    "#### 漏掉几个文件没有添加\n",
    "1. git commit -m 'initial commit'\n",
    "2. git add forgotten_file\n",
    "3. git commit --amend\n",
    "\n",
    "git commit之后，发现漏掉forgotten_file，使用git commit --amend，会只提交一次，这些文件同一批提交。\n",
    "\n",
    "#### 取消暂存文件\n",
    "1. git reset HEAD CONTRIBUTING.md\n",
    "\n",
    "使用git reset HEAD将已commit取消\n",
    "\n",
    "#### 撤销文件修改\n",
    "1. git checkout -- CONTRIBUTING.md\n",
    "\n",
    "将之前修改都取消，实质是用之前的文件，覆盖掉。\n",
    "\n",
    "(2019.11.13 10:10 25分钟)"
   ]
  },
  {
   "cell_type": "markdown",
   "metadata": {},
   "source": [
    "(2019.11.22 14:30)\n",
    "\n",
    "## 远程仓库使用\n",
    "1. 查看远程仓库：git remote。如果把url也显示出来，可以git remote -v。\n",
    "2. 添加远程仓库：git remote add pb https://github.com/paulboone/ticgit ，命名为pd。\n",
    "3. 从远程仓库中获得数据：git fetch remote-name，并不会自动合并或修改你当前的工作，必须手动将其合并入你的工作。\n",
    "4. 使用 clone 命令克隆了一个仓库，命令会自动将其添加为远程仓库并默认以 “origin” 为简写。 \n",
    "5. 使用 git pull 命令来自动的抓取然后合并远程分支到当前分支。\n",
    "6. 推送到远程仓库：git push origin master，如果别人先你之前推送，需要先合并代码，再push。\n",
    "7. 查看某个远程仓库：git remote show remote-name，会列出远程仓库的 URL 与跟踪分支的信息。\n",
    "8. 远程仓库重命名：git remote rename pb paul\n",
    "9. 删除远程仓库：git remote rm paul"
   ]
  },
  {
   "cell_type": "markdown",
   "metadata": {},
   "source": [
    "## 打标签\n",
    "1. git tag：以字母顺序列出标签；但是它们出现的顺序并不重要。\n",
    "2. git tag -l 'v1.8.5*'：只显示对v1.8.5感兴趣的版本\n",
    "3. git tag -a v1.4 -m \"my version 1.4\"：附注标签\n",
    "4. git show v1.4：可以看到标签信息与对应的提交信息\n",
    "5. git tag v1.4-lw：清凉标签\n",
    "6. git tag -a v1.2 9fceb02：后期标签\n",
    "7. git push origin v1.5：共享标签\n",
    "8. git tag -d v1.4-lw：删除标签\n",
    "9. git checkout 2.0.0：检查某个标签所指向的文本文件\n",
    "\n",
    "(2019.11.22 14:40 10分钟)"
   ]
  },
  {
   "cell_type": "markdown",
   "metadata": {},
   "source": [
    "(2019.11.22 15:46)\n",
    "\n",
    "## 别名\n",
    "1. git config --global alias.co checkout\n",
    "2. git config --global alias.br branch\n",
    "3. git config --global alias.ci commit\n",
    "4. git config --global alias.st status\n",
    "\n",
    "可以向 Git 中添加取消暂存别名：\n",
    "1. git config --global alias.unstage 'reset HEAD --'\n"
   ]
  },
  {
   "cell_type": "code",
   "execution_count": null,
   "metadata": {},
   "outputs": [],
   "source": []
  }
 ],
 "metadata": {
  "kernelspec": {
   "display_name": "Python 3",
   "language": "python",
   "name": "python3"
  },
  "language_info": {
   "codemirror_mode": {
    "name": "ipython",
    "version": 3
   },
   "file_extension": ".py",
   "mimetype": "text/x-python",
   "name": "python",
   "nbconvert_exporter": "python",
   "pygments_lexer": "ipython3",
   "version": "3.6.9"
  }
 },
 "nbformat": 4,
 "nbformat_minor": 2
}
