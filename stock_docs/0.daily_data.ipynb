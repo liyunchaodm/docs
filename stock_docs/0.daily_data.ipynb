{
 "cells": [
  {
   "cell_type": "code",
   "execution_count": 1,
   "metadata": {},
   "outputs": [],
   "source": [
    "import tushare as ts\n",
    "import datetime\n",
    "import time\n",
    "import os\n",
    "import pandas as pd\n",
    "import warnings\n",
    "warnings.filterwarnings(\"ignore\")"
   ]
  },
  {
   "cell_type": "code",
   "execution_count": 3,
   "metadata": {},
   "outputs": [],
   "source": [
    "curr_date = datetime.datetime.now().strftime('%Y-%m-%d')\n",
    "base_dir = 'D:/Projects/docs/stock_data/tick/'\n",
    "stock_list = ['600887','000333','601318','000001','000002','603899','000651','603288','600036','002304','600519']\n",
    "for code in stock_list:\n",
    "    data_tick = ts.get_tick_data(code,date=curr_date,src='tt')\n",
    "    stock_file = base_dir + code + '/' + str(curr_date) + '.csv'\n",
    "    data_tick.to_csv(stock_file,index=None)"
   ]
  },
  {
   "cell_type": "code",
   "execution_count": null,
   "metadata": {},
   "outputs": [],
   "source": []
  }
 ],
 "metadata": {
  "kernelspec": {
   "display_name": "Python 3",
   "language": "python",
   "name": "python3"
  },
  "language_info": {
   "codemirror_mode": {
    "name": "ipython",
    "version": 3
   },
   "file_extension": ".py",
   "mimetype": "text/x-python",
   "name": "python",
   "nbconvert_exporter": "python",
   "pygments_lexer": "ipython3",
   "version": "3.6.8"
  }
 },
 "nbformat": 4,
 "nbformat_minor": 2
}
